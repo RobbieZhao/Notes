{
 "cells": [
  {
   "cell_type": "code",
   "execution_count": null,
   "metadata": {},
   "outputs": [],
   "source": [
    "import matplotlib.pyplot as plt"
   ]
  },
  {
   "cell_type": "markdown",
   "metadata": {},
   "source": [
    "## Set Up\n",
    "\n",
    "#### To draw only one graph\n",
    "    fig, ax = plt.subplots()\n",
    "#### To draw multiple graphs\n",
    "    fig, axes = plt.subplots(n_rows, n_cols)\n",
    "    \n",
    "note: `fig` is a `Figure` object; `ax` is an `axes.Axes` object\n",
    "\n",
    "#### Set figure size\n",
    "    fig.set_size_inches(width, height)"
   ]
  },
  {
   "cell_type": "markdown",
   "metadata": {},
   "source": [
    "## Text\n",
    "\n",
    "#### To add a title to the `fig`\n",
    "    fig.suptitle('Fig Title')\n",
    "\n",
    "#### To add a title to the `ax`\n",
    "    ax.set_title('Axes Title')\n",
    "\n",
    "#### To add x label or y label to `fig`  ([available in matplotlib v3.4](https://stackoverflow.com/questions/16150819/common-xlabel-ylabel-for-matplotlib-subplots))\n",
    "    fig.supxlabel('x label')\n",
    "    fig.supylabel('y label')\n",
    "\n",
    "#### To add x label or y label to `ax`\n",
    "    ax.set_xlabel('x label')\n",
    "    ax.set_ylabel('y label')"
   ]
  },
  {
   "cell_type": "markdown",
   "metadata": {},
   "source": [
    "## Example code"
   ]
  },
  {
   "cell_type": "code",
   "execution_count": null,
   "metadata": {},
   "outputs": [],
   "source": [
    "fig, ax = plt.subplots(2, 2)\n",
    "\n",
    "fig.set_size_inches(10, 5)\n",
    "\n",
    "fig.suptitle(\"hello\")\n",
    "fig.tight_layout()\n",
    "\n",
    "ax[0][0].set_xlabel('x label')\n",
    "ax[0][0].set_ylabel('y label')\n",
    "\n",
    "plt.show()"
   ]
  }
 ],
 "metadata": {
  "kernelspec": {
   "display_name": "Python 3",
   "language": "python",
   "name": "python3"
  },
  "language_info": {
   "codemirror_mode": {
    "name": "ipython",
    "version": 3
   },
   "file_extension": ".py",
   "mimetype": "text/x-python",
   "name": "python",
   "nbconvert_exporter": "python",
   "pygments_lexer": "ipython3",
   "version": "3.7.9"
  }
 },
 "nbformat": 4,
 "nbformat_minor": 4
}
